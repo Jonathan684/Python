{
 "cells": [
  {
   "cell_type": "markdown",
   "id": "f6721625",
   "metadata": {},
   "source": [
    "Determinar cuántas palabras contenían una \"a\" y también una \"s\", pero no contenían una \"e\". Por ejemplo, en el texto: \"Ahora estamos en octavos de final del mundial.\", hay una palabra que cumple la condición (\"octavos\"). La palabra \"estamos\" tiene una \"a\" y una \"s\", pero no cuenta porque tiene también una \"e\". \n",
    "\n",
    "Determinar cuántas palabras contenían al menos una vez la expresión \"re\" pero terminaban con la letra \"o\". Por ejemplo, en el texto: \"El registro de goles ha revelado que el réferi se equivoca.\". hay dos palabras que cumplen la condición (\"registro\" y \"revelado\"). La palabra \"réferi\" tiene la expresión \"re\", pero no cumple porque no termina en \"o\"."
   ]
  },
  {
   "cell_type": "markdown",
   "id": "902cb3a2",
   "metadata": {},
   "source": [
    "1.- Determinar cuántas palabras contenían una \"a\" y también una \"s\", pero no contenían una \"e\""
   ]
  },
  {
   "cell_type": "code",
   "execution_count": null,
   "id": "726705ad",
   "metadata": {},
   "outputs": [],
   "source": [
    "texto =  \"Ahora estamos en octavos de final del mundial.\"\n",
    "texto.lower()\n"
   ]
  },
  {
   "cell_type": "markdown",
   "id": "c757eed2",
   "metadata": {},
   "source": [
    "Determinar cuántas palabras contenían al menos una vez la expresión \"re\" pero terminaban con la letra \"o\". Por ejemplo, en el texto: \"El registro de goles ha revelado que el réferi se equivoca.\". hay dos palabras que cumplen la condición (\"registro\" y \"revelado\"). La palabra \"réferi\" tiene la expresión \"re\", pero no cumple porque no termina en \"o\"."
   ]
  },
  {
   "cell_type": "markdown",
   "id": "f67fe655",
   "metadata": {},
   "source": [
    "Determinar cuántas palabras contenían al menos una vez la expresión \"re\" "
   ]
  },
  {
   "cell_type": "code",
   "execution_count": 10,
   "id": "aabbf077",
   "metadata": {},
   "outputs": [
    {
     "name": "stdout",
     "output_type": "stream",
     "text": [
      "10\n",
      "correcto\n"
     ]
    }
   ],
   "source": [
    "palabra = 'estructura'\n",
    "print(len(texto_1))\n",
    "if palabra[len(palabra)-1]:\n",
    "    print('correcto')"
   ]
  },
  {
   "cell_type": "code",
   "execution_count": 17,
   "id": "19128700",
   "metadata": {},
   "outputs": [
    {
     "ename": "TypeError",
     "evalue": "list.append() takes exactly one argument (2 given)",
     "output_type": "error",
     "traceback": [
      "\u001b[1;31m---------------------------------------------------------------------------\u001b[0m",
      "\u001b[1;31mTypeError\u001b[0m                                 Traceback (most recent call last)",
      "\u001b[1;32m<ipython-input-17-31e1e92b945c>\u001b[0m in \u001b[0;36m<module>\u001b[1;34m\u001b[0m\n\u001b[0;32m      1\u001b[0m \u001b[0mbuffer\u001b[0m \u001b[1;33m=\u001b[0m \u001b[1;33m[\u001b[0m\u001b[1;33m]\u001b[0m\u001b[1;33m\u001b[0m\u001b[1;33m\u001b[0m\u001b[0m\n\u001b[1;32m----> 2\u001b[1;33m \u001b[0mbuffer\u001b[0m\u001b[1;33m.\u001b[0m\u001b[0mappend\u001b[0m\u001b[1;33m(\u001b[0m\u001b[1;34m'Hola'\u001b[0m\u001b[1;33m,\u001b[0m\u001b[1;34m'mundo'\u001b[0m\u001b[1;33m)\u001b[0m\u001b[1;33m\u001b[0m\u001b[1;33m\u001b[0m\u001b[0m\n\u001b[0m\u001b[0;32m      3\u001b[0m \u001b[1;31m#buffer.clear()\u001b[0m\u001b[1;33m\u001b[0m\u001b[1;33m\u001b[0m\u001b[1;33m\u001b[0m\u001b[0m\n\u001b[0;32m      4\u001b[0m \u001b[1;33m\u001b[0m\u001b[0m\n\u001b[0;32m      5\u001b[0m \u001b[0mbuffer\u001b[0m\u001b[1;33m.\u001b[0m\u001b[0mreverse\u001b[0m\u001b[1;33m(\u001b[0m\u001b[1;33m)\u001b[0m\u001b[1;33m\u001b[0m\u001b[1;33m\u001b[0m\u001b[0m\n",
      "\u001b[1;31mTypeError\u001b[0m: list.append() takes exactly one argument (2 given)"
     ]
    }
   ],
   "source": [
    "buffer = []\n",
    "buffer.append('Hola','mundo')\n",
    "#buffer.clear()\n",
    "\n",
    "buffer.reverse()\n",
    "print(buffer)"
   ]
  },
  {
   "cell_type": "code",
   "execution_count": 20,
   "id": "9f053149",
   "metadata": {},
   "outputs": [
    {
     "name": "stdout",
     "output_type": "stream",
     "text": [
      "Before reversal Array is : ['hola', 'mundo']\n",
      "After reversing Array: ['mundo', 'hola']\n"
     ]
    }
   ],
   "source": [
    "#The original array\n",
    "arr = ['hola', 'mundo']\n",
    "print(\"Before reversal Array is :\",arr)\n",
    "arr.reverse() #reversing using reverse()\n",
    "print(\"After reversing Array:\",arr)"
   ]
  }
 ],
 "metadata": {
  "kernelspec": {
   "display_name": "Python 3",
   "language": "python",
   "name": "python3"
  },
  "language_info": {
   "codemirror_mode": {
    "name": "ipython",
    "version": 3
   },
   "file_extension": ".py",
   "mimetype": "text/x-python",
   "name": "python",
   "nbconvert_exporter": "python",
   "pygments_lexer": "ipython3",
   "version": "3.9.6"
  }
 },
 "nbformat": 4,
 "nbformat_minor": 5
}
