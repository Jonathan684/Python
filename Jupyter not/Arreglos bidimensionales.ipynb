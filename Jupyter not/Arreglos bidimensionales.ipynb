{
 "cells": [
  {
   "cell_type": "code",
   "execution_count": 8,
   "id": "4cc451aa",
   "metadata": {},
   "outputs": [
    {
     "name": "stdout",
     "output_type": "stream",
     "text": [
      "[[0, 1], [2, 3]]\n",
      "--> 3\n"
     ]
    }
   ],
   "source": [
    "a = [[0,1],\n",
    "     [2,3]]\n",
    "\n",
    "print(a)\n",
    "print('-->',a[1][1])"
   ]
  },
  {
   "cell_type": "code",
   "execution_count": 5,
   "id": "9fd56902",
   "metadata": {},
   "outputs": [
    {
     "name": "stdout",
     "output_type": "stream",
     "text": [
      "Error! Ingrese un número mayor a 0: 6\n",
      "Error! Ingrese un número mayor a 0: 11\n",
      "11\n"
     ]
    }
   ],
   "source": [
    "numero = 0\n",
    "n = 10\n",
    "while numero < n:\n",
    "     numero = int(input('Error! Ingrese un número mayor a 0: '))\n",
    "print(numero)"
   ]
  },
  {
   "cell_type": "code",
   "execution_count": null,
   "id": "dbb8b69e",
   "metadata": {},
   "outputs": [],
   "source": [
    "numero = 0\n",
    "n = 10\n",
    "while numero < n: # n = 10 numero = 10\n",
    "      numero = int(input('Error! Ingrese un número mayor o igual a 0: '))"
   ]
  },
  {
   "cell_type": "code",
   "execution_count": null,
   "id": "b29c87ce",
   "metadata": {},
   "outputs": [],
   "source": [
    "numero = 0\n",
    "n = 10\n",
    "while numero < n: ## n = 10 numero = 10\n",
    "      numero = int(input('Error! Ingrese un número mayor o igual a 0: '))"
   ]
  },
  {
   "cell_type": "code",
   "execution_count": 1,
   "id": "e6ca4e0c",
   "metadata": {},
   "outputs": [
    {
     "name": "stdout",
     "output_type": "stream",
     "text": [
      "[0, 0, 0, 0, 0, 0, 0, 0, 0, 0]\n"
     ]
    }
   ],
   "source": [
    "a = [0] * 10\n",
    "print(a)\n"
   ]
  },
  {
   "cell_type": "code",
   "execution_count": 4,
   "id": "b7b492d9",
   "metadata": {},
   "outputs": [],
   "source": [
    "acumulador = [0] * 31 ## Son 31 lugares comenzando desde el cero\n",
    "acumulador[30] = 99 # es la 31\n"
   ]
  }
 ],
 "metadata": {
  "kernelspec": {
   "display_name": "Python 3",
   "language": "python",
   "name": "python3"
  },
  "language_info": {
   "codemirror_mode": {
    "name": "ipython",
    "version": 3
   },
   "file_extension": ".py",
   "mimetype": "text/x-python",
   "name": "python",
   "nbconvert_exporter": "python",
   "pygments_lexer": "ipython3",
   "version": "3.9.6"
  }
 },
 "nbformat": 4,
 "nbformat_minor": 5
}
