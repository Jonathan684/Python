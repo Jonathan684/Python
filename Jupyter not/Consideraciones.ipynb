{
 "cells": [
  {
   "cell_type": "markdown",
   "id": "22b489fe",
   "metadata": {},
   "source": [
    "1. Oficialmente se comunica a todos los estudiantes que el día SÁBADO 04 de Septiembre a partir de las 13:00 horas (pero divididos en turnos a lo largo de esa tarde) se evaluará el Tercer Parcial (P3) de AED, en todos los cursos de la Cátedra.\n",
    "\n",
    "2. El temario del parcial, abarca en general los temas de las Fichas de Clase 1 a 18, ambas incluidas, pero SIN INCLUIR la Ficha 16 (Arreglos Bidimensionales). El temario incluye fundamentalmente el procesamiento de un arereglo o vector de registros y la aplicación de técnicas esenciales como carga, visualización (total o filtrada), ordenamiento, búsqueda (secuencia o binaria) conteo por acceso directo, etc. En cuanto al uso de funciones, se exige que se apliquen funciones con parámetros y retorno de valor en toda situación y el uso de al menos dos módulos (uno para el programa principal, controlado por menú de opciones) y al menos otro para contener la definición de la clase del registro y algunas funciones para manejar registros de esa clase. Será exigible que se controle la ejecución del módulo principal a través del chequeo de la variable _name_ (tal y como fue explicado en clases). El parcial consistirá en el desarrollo de un programa completo, cada alumno trabajando en su computadora, en forma remota. Al terminar de desarrollar ese programa, los alumnos deberán subirlo al aula virtual en forma similar a como han subido el primer parcial, pero a través del link que corresponda a la actividad Parcial 3."
   ]
  },
  {
   "cell_type": "markdown",
   "id": "94682409",
   "metadata": {},
   "source": [
    " - No se incluye la ficha 16"
   ]
  },
  {
   "cell_type": "markdown",
   "id": "72804e97",
   "metadata": {},
   "source": [
    "* El temario incluye fundamentalmente el procesamiento de un arreglo o vector de registros y la aplicación de técnicas esenciales como carga, visualización (total o filtrada), ordenamiento, búsqueda (secuencia o binaria) conteo por acceso directo, etc."
   ]
  },
  {
   "cell_type": "markdown",
   "id": "b69c82da",
   "metadata": {},
   "source": [
    " * En cuanto al uso de funciones, se exige que se apliquen funciones con parámetros y retorno de valor en toda situación y el uso de al menos dos módulos (uno para el programa principal, controlado por menú de opciones) y al menos otro para contener la definición de la clase del registro y algunas funciones para manejar registros de esa clase."
   ]
  },
  {
   "cell_type": "code",
   "execution_count": null,
   "id": "e81b54a4",
   "metadata": {},
   "outputs": [],
   "source": []
  }
 ],
 "metadata": {
  "kernelspec": {
   "display_name": "Python 3",
   "language": "python",
   "name": "python3"
  },
  "language_info": {
   "codemirror_mode": {
    "name": "ipython",
    "version": 3
   },
   "file_extension": ".py",
   "mimetype": "text/x-python",
   "name": "python",
   "nbconvert_exporter": "python",
   "pygments_lexer": "ipython3",
   "version": "3.9.6"
  }
 },
 "nbformat": 4,
 "nbformat_minor": 5
}
