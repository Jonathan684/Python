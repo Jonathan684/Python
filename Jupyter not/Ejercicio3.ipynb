{
 "cells": [
  {
   "cell_type": "markdown",
   "id": "633912d7",
   "metadata": {},
   "source": [
    "Determinar la cantidad de palabras que tienen dos o más dígitos y una cantidad par de vocales (mayúsculas y minúsculas). Por ejemplo, en el texto \"Los códigos X12AEB y YAA123 de productos están en falta.\" hay 2 palabras que cumplen con la condición (\"X12AEB\" y \"YAA123\"). Las palabras sin vocales (o sea, con 0 vocales) no deben ser contadas.\n",
    "Determinar el porcentaje de palabras (con respecto al total de palabras de texto) que tienen más de 3 consonantes (mayúsculas o minúsculas) y al menos un dígito. Por ejemplo, en el texto: \"El código de curso XDNC1 se dicta a la mañana.\" hay 1 palabra que cumple la condición (\"XDNC1\") sobre un total de 10 palabras. Por lo tanto el porcentaje pedido es 10%.\n",
    "Determinar cuántas palabras inician con consonante (minúscula o mayúscula) y terminan con vocal (minúscula o mayúscula). Por ejemplo, en el texto \"Los otros niños compartieron la clase con los visitantes.\" hay 2 palabras que cumplen con la condición (\"la\" y \"clase\").\n",
    "Determinar cuantas palabras incluyen la expresión \"ma\" (con cualquiera de sus letras en minúscula o en mayúscula) en una cantidad par. Por ejemplo, en el texto \"No hay forma de la mamadera esté llena.\" hay 1 palabra que cumple con la condición (\"mamadera\"). Notar que la palabra \"forma\" tiene la expresión \"ma\" pero un número impar de veces, y por lo tanto no debe ser contada. Las palabras que NO tienen la expresión \"ma\" (o sea, la tienen 0 veces) no deben ser contadas."
   ]
  },
  {
   "cell_type": "markdown",
   "id": "b2db065b",
   "metadata": {},
   "source": [
    "Variables globales"
   ]
  },
  {
   "cell_type": "code",
   "execution_count": 139,
   "id": "1db54fce",
   "metadata": {},
   "outputs": [],
   "source": [
    "vocales = 'aeiouAEIOU'\n",
    "consonante_1 = 'BCDFGHJKLMNÑPQRSTVWXYZ'\n",
    "consonante_2 = consonante_1.lower()"
   ]
  },
  {
   "cell_type": "code",
   "execution_count": 140,
   "id": "6ff6a6e1",
   "metadata": {},
   "outputs": [],
   "source": [
    "def contiene_vocal(palabra):\n",
    "    vocal : \"aeiou\"\n",
    "        "
   ]
  },
  {
   "cell_type": "markdown",
   "id": "4a8ba319",
   "metadata": {},
   "source": [
    "Determinar la cantidad de palabras que tienen dos o más dígitos y una cantidad par de vocales (mayúsculas y minúsculas)."
   ]
  },
  {
   "cell_type": "code",
   "execution_count": 141,
   "id": "244b2aca",
   "metadata": {},
   "outputs": [],
   "source": [
    "def contador_de_digitos(palabra):\n",
    "    digitos = '0123456789'\n",
    "    contador = 0\n",
    "    for i in palabra:\n",
    "        if i in digitos:\n",
    "            contador +=1\n",
    "    return contador"
   ]
  },
  {
   "cell_type": "markdown",
   "id": "2eee9560",
   "metadata": {},
   "source": [
    " Las palabras sin vocales (o sea, con 0 vocales) no deben ser contadas"
   ]
  },
  {
   "cell_type": "code",
   "execution_count": 133,
   "id": "298f353e",
   "metadata": {},
   "outputs": [],
   "source": [
    "def cantidad_de_vocales(palabra):\n",
    "    cantidad = 0\n",
    "    global vocales\n",
    "    for letra in palabra:\n",
    "        if letra in vocales:\n",
    "            cantidad +=1\n",
    "    return cantidad\n",
    "            "
   ]
  },
  {
   "cell_type": "markdown",
   "id": "9d4e71c0",
   "metadata": {},
   "source": [
    "Determinar el porcentaje de palabras (con respecto al total de palabras de texto) que tienen más de 3 consonantes (mayúsculas o minúsculas) y al menos un dígito"
   ]
  },
  {
   "cell_type": "code",
   "execution_count": 134,
   "id": "6fda19a6",
   "metadata": {},
   "outputs": [],
   "source": [
    "def contador_de_consonantes(palabra):\n",
    "    global consonante_1\n",
    "    global consonante_2\n",
    "    contador_1 = 0\n",
    "    for letra in palabra:\n",
    "        if letra in consonante_1 or letra in consonante_2 :\n",
    "            contador_1 +=1\n",
    "    return contador_1\n",
    "    "
   ]
  },
  {
   "cell_type": "markdown",
   "id": "a1e7ce26",
   "metadata": {},
   "source": [
    "Contador de palabra totales en el texto"
   ]
  },
  {
   "cell_type": "code",
   "execution_count": 117,
   "id": "d73b4947",
   "metadata": {},
   "outputs": [],
   "source": [
    "def total_palabras(texto_aux):\n",
    "    contador = 0\n",
    "    for letras in texto_aux:\n",
    "        if letras == ' ' or letras == '.':\n",
    "            contador +=1\n",
    "    return contador"
   ]
  },
  {
   "cell_type": "markdown",
   "id": "32345acf",
   "metadata": {},
   "source": [
    "Determinar cuántas palabras inician con consonante (minúscula o mayúscula) y terminan con vocal (minúscula o mayúscula). Por ejemplo, en el texto \"Los otros niños compartieron la clase con los visitantes.\" hay 2 palabras que cumplen con la condición (\"la\" y \"clase\")."
   ]
  },
  {
   "cell_type": "code",
   "execution_count": 148,
   "id": "5526730d",
   "metadata": {},
   "outputs": [],
   "source": [
    "def inicio_consonante(palabra):\n",
    "    global consonante_1\n",
    "    global consonante_2\n",
    "    \n",
    "    if palabra[0] in consonante_1 or palabra[0] in consonante_2:\n",
    "        return True\n",
    "    else:\n",
    "        return False\n",
    "def fin_vocal(palabra):\n",
    "    if palabra[len(palabra)-1] in vocales:\n",
    "        return True\n",
    "    else:\n",
    "        return False"
   ]
  },
  {
   "cell_type": "markdown",
   "id": "1f215403",
   "metadata": {},
   "source": [
    " Determinar cuantas palabras incluyen la expresión \"ma\" (con cualquiera de sus letras en minúscula o en mayúscula) en una cantidad par."
   ]
  },
  {
   "cell_type": "code",
   "execution_count": 167,
   "id": "c62b66d8",
   "metadata": {},
   "outputs": [],
   "source": [
    "def contiene_ma(palabra):\n",
    "    tiene_m = False\n",
    "    contador = 0\n",
    "    for i in palabra:\n",
    "        if i == 'm' or i == 'M':\n",
    "            tiene_m = True\n",
    "        else:\n",
    "            if(tiene_m == True) and (i == 'a' or i == 'A'):\n",
    "                contador +=1\n",
    "                tiene_m = False\n",
    "            else:\n",
    "                tiene_m = False\n",
    "    return contador"
   ]
  },
  {
   "cell_type": "code",
   "execution_count": 181,
   "id": "5bd9f187",
   "metadata": {},
   "outputs": [
    {
     "name": "stdout",
     "output_type": "stream",
     "text": [
      "No hay forma de la mamadera esté llena.\n",
      "contienen ma mamadera\n",
      "0\n",
      "Cantidad de palabras con mas de tres consonantes =  0\n",
      "Cantidad de palabras = 10\n",
      "Porcentaje =  0 %\n"
     ]
    }
   ],
   "source": [
    "#texto_p = \"Los códigos X12AEB y YAA123 de productos están en falta.\"\n",
    "#texto_p = \"El código de curso XDNC1 se dicta a la mañana.\"\n",
    "#texto_p = \"Los otros niños compartieron la clase con los visitantes.\"\n",
    "texto_p = \"No hay forma de la mamadera esté llena.\"\n",
    "cont_p_consonantes = 0\n",
    "contador_inicio_fin = 0\n",
    "print(texto_p)\n",
    "\n",
    "palabra_p = ''\n",
    "for i in texto_p:\n",
    "    digitos = '0123456789'\n",
    "    \n",
    "    ##print(i)\n",
    "    if i == ' ' or i == '.':\n",
    "        ##print(palabra_p)\n",
    "        ##Preguntamos si la palabra tiene 2 o mas digitos\n",
    "        cantidad_de_digitos = contador_de_digitos(palabra_p)\n",
    "        if  cantidad_de_digitos >= 2:\n",
    "            ##Preguntamos si contiene vocales\n",
    "            contiene_vocales = cantidad_de_vocales(palabra_p)\n",
    "            if contiene_vocales != 0:    \n",
    "                print(\"Palabra de mas de dos digitos ->\"+ palabra_p)\n",
    "                print(\"Cantidad de vocales\",cantidad_de_vocales(palabra_p))\n",
    "        if  cantidad_de_digitos >= 1:\n",
    "            cantidad_de_consonante = 0\n",
    "            cantidad_de_palabras = 0\n",
    "            cantidad_de_consonante = contador_de_consonantes(palabra_p)\n",
    "            if cantidad_de_consonante > 3:\n",
    "                print(\"Palabra que contiene mas de tres consonantes y al menos un digito : \"+ palabra_p)\n",
    "                cantidad_de_palabras = total_palabras(texto_p)\n",
    "                cont_p_consonantes += 1\n",
    "        if inicio_consonante(palabra_p) and fin_vocal(palabra_p):##retorna true o false\n",
    "            contador_inicio_fin +=1\n",
    "            ##print(\"-->\",palabra_p) Comienza con consonante y termina con vocal\n",
    "        if  contiene_ma(palabra_p) > 0 :\n",
    "            if contiene_ma(palabra_p) % 2 == 0:\n",
    "                print(\"contienen ma \"+ palabra_p)\n",
    "        palabra_p ='' ##Borra la palabra, para volver a analizar otra\n",
    "    else:\n",
    "        palabra_p += i\n",
    "print(\"Cantidad de palabras con mas de tres consonantes = \",cont_p_consonantes)        \n",
    "print(\"Cantidad de palabras =\", cantidad_de_palabras)\n",
    "print(\"Porcentaje = \",round((cont_p_consonantes / cantidad_de_palabras)*100),'%')\n",
    "        "
   ]
  },
  {
   "cell_type": "markdown",
   "id": "72611a04",
   "metadata": {},
   "source": [
    "Verificacion si la letra esta en la cadena vocales"
   ]
  },
  {
   "cell_type": "code",
   "execution_count": 142,
   "id": "ef203cd7",
   "metadata": {},
   "outputs": [],
   "source": [
    "def es_vocal(letra):\n",
    "    vocales = 'aeiouAEIOU'\n",
    "    if letra in vocales:\n",
    "        return True\n",
    "    else:\n",
    "        return False\n",
    "\n",
    "\n",
    "def es_letra(letra):\n",
    "    if (letra >= 'a' and letra <= 'z') or (letra >= 'A' and letra <= 'Z'):\n",
    "        return True\n",
    "    else:\n",
    "        return False"
   ]
  },
  {
   "cell_type": "markdown",
   "id": "ac7704d9",
   "metadata": {},
   "source": [
    "Contiene lo que estamos buscando"
   ]
  },
  {
   "cell_type": "code",
   "execution_count": 143,
   "id": "215b3eb9",
   "metadata": {},
   "outputs": [
    {
     "name": "stdout",
     "output_type": "stream",
     "text": [
      "Cantidad de vocales : 7\n"
     ]
    }
   ],
   "source": [
    "palabra = \"vocalesaaaa\"\n",
    "vocales = \"aeiou\"\n",
    "contador_de_vocales = 0\n",
    "for letra in palabra:\n",
    "    if letra in vocales:\n",
    "        contador_de_vocales +=1\n",
    "print(\"Cantidad de vocales :\",contador_de_vocales)"
   ]
  },
  {
   "cell_type": "markdown",
   "id": "12c7524a",
   "metadata": {},
   "source": [
    "Contar vocales o letras dentro de una cadena"
   ]
  },
  {
   "cell_type": "code",
   "execution_count": 17,
   "id": "b5240f17",
   "metadata": {},
   "outputs": [
    {
     "name": "stdout",
     "output_type": "stream",
     "text": [
      "4\n"
     ]
    }
   ],
   "source": [
    "cad = 'Hola mundo'\n",
    "def contar_vocales(cad):\n",
    "    voc = 0\n",
    "    for c in cad:\n",
    "        if c == 'a' or c == 'e' or c == 'i' or c =='o' or c == 'u' or c == 'A' or c == 'E' or c == 'I' or c =='O' or c == 'U':\n",
    "            voc=voc+1\n",
    "    return voc\n"
   ]
  },
  {
   "cell_type": "code",
   "execution_count": 19,
   "id": "0a9a6e8c",
   "metadata": {},
   "outputs": [
    {
     "name": "stdout",
     "output_type": "stream",
     "text": [
      "4\n"
     ]
    }
   ],
   "source": [
    "def contar_vocales_2(cad):\n",
    "    voc = 0\n",
    "    for c in cad:\n",
    "        if c in \"aeiouAEIOU\":\n",
    "            voc = voc + 1\n",
    "    return voc\n",
    "\n",
    "print(contar_vocales_3(cad))"
   ]
  },
  {
   "cell_type": "code",
   "execution_count": 18,
   "id": "a0291ad6",
   "metadata": {},
   "outputs": [
    {
     "name": "stdout",
     "output_type": "stream",
     "text": [
      "4\n"
     ]
    }
   ],
   "source": [
    "def contar_vocales_3(cad):\n",
    "    return sum(c in {\"a\", \"A\", \"e\", \"E\", \"i\", \"I\", \"o\", \"O\", \"u\", \"U\"} for c in cad)\n",
    "print(contar_vocales_3(cad))"
   ]
  },
  {
   "cell_type": "markdown",
   "id": "9ddd63ea",
   "metadata": {},
   "source": [
    "Conversiones"
   ]
  },
  {
   "cell_type": "code",
   "execution_count": 10,
   "id": "4b8729d2",
   "metadata": {},
   "outputs": [
    {
     "name": "stdout",
     "output_type": "stream",
     "text": [
      "HOLA\n",
      "chau\n"
     ]
    }
   ],
   "source": [
    "minuscula = 'hola'\n",
    "mayuscula = minuscula.upper()\n",
    "print(mayuscula)\n",
    "\n",
    "MAYUSCULA = 'CHAU'\n",
    "MINUSCULA = MAYUSCULA.lower()\n",
    "print(MINUSCULA)"
   ]
  },
  {
   "cell_type": "code",
   "execution_count": null,
   "id": "7a3282c1",
   "metadata": {},
   "outputs": [],
   "source": [
    "array = []"
   ]
  },
  {
   "cell_type": "code",
   "execution_count": 18,
   "id": "d00445df",
   "metadata": {},
   "outputs": [
    {
     "name": "stdout",
     "output_type": "stream",
     "text": [
      "0\n"
     ]
    }
   ],
   "source": [
    "def buscar_ma(cadena):\n",
    "    hay_ma = 0\n",
    "    contiene_m = False\n",
    "    for letra in cadena:\n",
    "        if letra == 'm':\n",
    "            contiene_m = True\n",
    "        else:\n",
    "            if (letra == 'a') and (contiene_m == True):\n",
    "                hay_ma += 1\n",
    "                contiene_m = False\n",
    "            else:\n",
    "                contiene_m = False\n",
    "    return hay_ma\n",
    "\n",
    "print(buscar_ma(\"compartieron\"))"
   ]
  },
  {
   "cell_type": "code",
   "execution_count": 10,
   "id": "c71c64f9",
   "metadata": {},
   "outputs": [
    {
     "name": "stdout",
     "output_type": "stream",
     "text": [
      "Contador antes es 10\n",
      "Contador después es 10\n"
     ]
    }
   ],
   "source": [
    "contador = 10\n",
    "\n",
    "def reiniciar_contador():\n",
    "\tcontador = 0\n",
    "\n",
    "\n",
    "print(f'Contador antes es {contador}')\n",
    "reiniciar_contador()\n",
    "print(f'Contador después es {contador}')"
   ]
  }
 ],
 "metadata": {
  "kernelspec": {
   "display_name": "Python 3",
   "language": "python",
   "name": "python3"
  },
  "language_info": {
   "codemirror_mode": {
    "name": "ipython",
    "version": 3
   },
   "file_extension": ".py",
   "mimetype": "text/x-python",
   "name": "python",
   "nbconvert_exporter": "python",
   "pygments_lexer": "ipython3",
   "version": "3.9.6"
  }
 },
 "nbformat": 4,
 "nbformat_minor": 5
}
